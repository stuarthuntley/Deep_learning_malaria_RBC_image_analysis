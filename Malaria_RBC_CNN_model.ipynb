{
 "cells": [
  {
   "cell_type": "markdown",
   "id": "11b53b45",
   "metadata": {},
   "source": [
    "<br>\n",
    "<center><font size=7 color='#0020C2'>Malaria Detection in Red Blood Cells<font></center>  \n",
    "    <br>\n",
    "<center><font size=7 color='#0020C2'>Using Deep Learning Image Analysis<font></center>  \n",
    "    <br>\n",
    "<center><font size=7 color='#0020C2'>Stuart Huntley<font></center>"
   ]
  },
  {
   "cell_type": "markdown",
   "id": "4c1b0bfe",
   "metadata": {},
   "source": [
    "# Introduction"
   ]
  },
  {
   "cell_type": "markdown",
   "id": "7ba7dc89",
   "metadata": {},
   "source": [
    "## Context"
   ]
  },
  {
   "cell_type": "markdown",
   "id": "07b4b8d4",
   "metadata": {},
   "source": [
    "* **Malaria is a serious, contagious disease caused by *Plasmodium* parasites**\n",
    "* *Plasmodium* enters the blood stream via bites from infected *Anopheles* mosquitos\n",
    "* *Plasmodium* can reside asymptomatically for more than a year in the human body\n",
    "* After infection, the parasite then invades red blood cells (RBCs) resulting in:\n",
    "> * changes in the shape, permeability, and adhesiveness of the RBCs\n",
    "> * these effects lead to destruction of infected and uninfected RBCS which can cause severe anemia and cerebral malaria\n",
    "* World-wide:\n",
    "> * almost 50% of the population is in danger of *Plasmodium* infections\n",
    "> * an estimated 200 to more than 500 million people are infected annually\n",
    "> * one half million (mostly infants and children) succumb to the illness\n",
    "* Traditional diagnosis of malaria in the laboratory:\n",
    "> * requires careful inspection of RBCs by an experienced professional\n",
    "> * detection of infected cells is a tedious and time consuming manual process\n",
    "> * accuracy of detection is adversely impacted by inspector fatigue and inter-observer variability\n",
    "* An automated system can help with rapid and accurate detection of *Plasmodium* infected RBCs\n",
    "* Applications of automated classification techniques using Machine Learning and Artificial Intelligence have consistently shown higher accuracy than manual classification\n",
    "* The purpose of this study is to apply Deep Learning Algorithms to create a model that can detect infected cells by analyzing images of RBCs with a high level of accuracy"
   ]
  },
  {
   "cell_type": "markdown",
   "id": "a730cbb5",
   "metadata": {},
   "source": [
    "## Objective"
   ]
  },
  {
   "cell_type": "markdown",
   "id": "032f1d5e",
   "metadata": {},
   "source": [
    "* Build an efficient computer vision model to detect malaria\n",
    "* The model should identify whether the RBC in an image is infected or not\n",
    "* The model should then properly classify the sample as infected or uninfected"
   ]
  },
  {
   "cell_type": "markdown",
   "id": "0feb7a15",
   "metadata": {},
   "source": [
    "## Dataset for model creation"
   ]
  },
  {
   "cell_type": "markdown",
   "id": "4a4833de",
   "metadata": {},
   "source": [
    "* The dataset consist of ~ 28,500 color images of individual RBCs\n",
    "> * all images are in portable network graphics (png) format\n",
    "> * NOTE: the dimensions of individual pictures vary significantly and will need to be corrected during data preparation\n",
    "* The dataset exists pre-divided:\n",
    "> * 'Training' (~25,000 images) and 'Test' (2600 images) datasets\n",
    "> * The 'Training and 'Test' datasets were each separated into two directories:\n",
    ">   * One directory containing only images of 'Parasitized' RBCs\n",
    ">   * A second directory containing only images of 'Uninfected' RBCs<br>\n",
    "\n",
    "**Below are example images for the 'Parasitized' and 'Uninfected' RBCs**<br>\n",
    "<img alt=\"RBC image samples\"\n",
    "     style=\"margin-left: 1%;  width: 70%\" \n",
    "     src=\"https://drive.google.com/uc?id=1LRBD_K9qrkgITRnDfWuJbXrTRNpFX9CD\"/>"
   ]
  },
  {
   "cell_type": "markdown",
   "id": "b6b88364",
   "metadata": {},
   "source": [
    "# Python Libraries"
   ]
  },
  {
   "cell_type": "code",
   "execution_count": 1,
   "id": "d680688a",
   "metadata": {},
   "outputs": [],
   "source": [
    "# To ignore warnings\n",
    "import warnings\n",
    "warnings.filterwarnings('ignore')\n",
    "\n",
    "# import normal machine learning tool libraries\n",
    "import matplotlib.pyplot as plt\n",
    "%matplotlib inline\n",
    "\n",
    "import numpy as np\n",
    "import pandas as pd\n",
    "import seaborn as sns\n",
    "import random\n",
    "from random import shuffle\n",
    "\n",
    "# to import data from images directories\n",
    "import os"
   ]
  },
  {
   "cell_type": "markdown",
   "id": "02350c93",
   "metadata": {},
   "source": [
    "# Data Preparation"
   ]
  },
  {
   "cell_type": "markdown",
   "id": "6eb5e505",
   "metadata": {},
   "source": [
    "## Import the Data"
   ]
  },
  {
   "cell_type": "markdown",
   "id": "e2951032",
   "metadata": {},
   "source": [
    "**Data for this project is available for download at:**<br>\n",
    "https://drive.google.com/file/d/1n3o1Xghpy9ufZwHkQFE5l5d9sUHQOUWM/view?pli=1\n",
    "\n",
    "**The downloaded, zip-compressed dataset was decompressed by bash command at the time of**<br>\n",
    "**download and stored in a folder \"DL_Malaria_data/\" adjacent to the working directory:**\n",
    "\n",
    "<pre>\n",
    "parent_directory/\n",
    "├─ project_working_directory/\n",
    "│  ├─ Malaria_RBC_CNN_model.ipynb\n",
    "├─ DL_Malaria_data/\n",
    "   ├─ cell_images/\n",
    "      ├─ test/\n",
    "      │  ├─ parasitized/\n",
    "      │  ├─ uninfected/\n",
    "      ├─ train/\n",
    "         ├─ parasitized/\n",
    "         ├─ uninfected/\n",
    "</pre>\n"
   ]
  },
  {
   "cell_type": "markdown",
   "id": "853caa44",
   "metadata": {},
   "source": [
    "### Option 1: using Google Colab"
   ]
  },
  {
   "cell_type": "markdown",
   "id": "3a933e92",
   "metadata": {},
   "source": [
    "**Note: The commands in this subsection are commented out as this was not the method used during creation of this notebook**"
   ]
  },
  {
   "cell_type": "markdown",
   "id": "4d6a56b2",
   "metadata": {},
   "source": [
    "#### Mount the google drive"
   ]
  },
  {
   "cell_type": "code",
   "execution_count": 2,
   "id": "451d8fc7",
   "metadata": {},
   "outputs": [],
   "source": [
    "#from google.colab import drive\n",
    "#drive.mount('/content/drive')"
   ]
  },
  {
   "cell_type": "markdown",
   "id": "396f2987",
   "metadata": {},
   "source": [
    "#### Assign the locations of the four image datasets to variables"
   ]
  },
  {
   "cell_type": "code",
   "execution_count": 3,
   "id": "8e62d9e9",
   "metadata": {},
   "outputs": [],
   "source": [
    "# Assign variables indicating the Google Drive locations where the four\n",
    "# data sets are located (train-parasitized, train-uninfected, test-parasitized,\n",
    "# and test_uninfected)\n",
    "#train_parasitized = '/content/cell_images/train/parasitized/'\n",
    "#train_uninfected = '/content/cell_images/train/uninfected/'\n",
    "#test_parasitized = '/content/cell_images/test/parasitized/'\n",
    "#test_uninfected = '/content/cell_images/test/uninfected/'"
   ]
  },
  {
   "cell_type": "markdown",
   "id": "3df4504d",
   "metadata": {},
   "source": [
    "### Option 2: using a local computer"
   ]
  },
  {
   "cell_type": "markdown",
   "id": "979ac7f8",
   "metadata": {},
   "source": [
    "#### Indicate the pathways to the relevant folders"
   ]
  },
  {
   "cell_type": "code",
   "execution_count": 6,
   "id": "99d9271e",
   "metadata": {},
   "outputs": [],
   "source": [
    "# Assign variables indicating the local drive locations where the four\n",
    "# data sets are located (train-parasitized, train-uninfected, test-parasitized,\n",
    "# and test_uninfected)\n",
    "train_parasitized = '../DL_Malaria_data/cell_images/train/parasitized/'\n",
    "train_uninfected = '../DL_Malaria_data/cell_images/train/uninfected/'\n",
    "test_parasitized = '../DL_Malaria_data/cell_images/test/parasitized/'\n",
    "test_uninfected = '../DL_Malaria_data/cell_images/test/uninfected/'"
   ]
  },
  {
   "cell_type": "markdown",
   "id": "cca6db17",
   "metadata": {},
   "source": [
    "### Set parameters for images"
   ]
  },
  {
   "cell_type": "code",
   "execution_count": 7,
   "id": "6bf4bf17",
   "metadata": {},
   "outputs": [],
   "source": [
    "# set parameter for image dimensions per side (64 X 64 pixels) to standardize size of images\n",
    "side_length = 64"
   ]
  },
  {
   "cell_type": "code",
   "execution_count": null,
   "id": "8651a21c",
   "metadata": {},
   "outputs": [],
   "source": []
  },
  {
   "cell_type": "code",
   "execution_count": null,
   "id": "2b151661",
   "metadata": {},
   "outputs": [],
   "source": []
  },
  {
   "cell_type": "code",
   "execution_count": null,
   "id": "cdfdb5a8",
   "metadata": {},
   "outputs": [],
   "source": []
  },
  {
   "cell_type": "markdown",
   "id": "221f2cf3",
   "metadata": {},
   "source": [
    "# Data Exploration"
   ]
  },
  {
   "cell_type": "markdown",
   "id": "7ec2585d",
   "metadata": {},
   "source": [
    "# Image Manipulation Exploration"
   ]
  },
  {
   "cell_type": "markdown",
   "id": "c191163e",
   "metadata": {},
   "source": [
    "# CNN Modeling Exploration"
   ]
  },
  {
   "cell_type": "markdown",
   "id": "cafcd63c",
   "metadata": {},
   "source": [
    "# Insights and Recommendations"
   ]
  },
  {
   "cell_type": "markdown",
   "id": "1d7f8d8f",
   "metadata": {},
   "source": []
  }
 ],
 "metadata": {
  "kernelspec": {
   "display_name": "Python 3 (ipykernel)",
   "language": "python",
   "name": "python3"
  },
  "language_info": {
   "codemirror_mode": {
    "name": "ipython",
    "version": 3
   },
   "file_extension": ".py",
   "mimetype": "text/x-python",
   "name": "python",
   "nbconvert_exporter": "python",
   "pygments_lexer": "ipython3",
   "version": "3.10.9"
  },
  "toc": {
   "base_numbering": 1,
   "nav_menu": {},
   "number_sections": true,
   "sideBar": true,
   "skip_h1_title": false,
   "title_cell": "Table of Contents",
   "title_sidebar": "Contents",
   "toc_cell": false,
   "toc_position": {
    "height": "calc(100% - 180px)",
    "left": "10px",
    "top": "150px",
    "width": "317.367px"
   },
   "toc_section_display": true,
   "toc_window_display": true
  },
  "varInspector": {
   "cols": {
    "lenName": 16,
    "lenType": 16,
    "lenVar": 40
   },
   "kernels_config": {
    "python": {
     "delete_cmd_postfix": "",
     "delete_cmd_prefix": "del ",
     "library": "var_list.py",
     "varRefreshCmd": "print(var_dic_list())"
    },
    "r": {
     "delete_cmd_postfix": ") ",
     "delete_cmd_prefix": "rm(",
     "library": "var_list.r",
     "varRefreshCmd": "cat(var_dic_list()) "
    }
   },
   "types_to_exclude": [
    "module",
    "function",
    "builtin_function_or_method",
    "instance",
    "_Feature"
   ],
   "window_display": false
  }
 },
 "nbformat": 4,
 "nbformat_minor": 5
}
