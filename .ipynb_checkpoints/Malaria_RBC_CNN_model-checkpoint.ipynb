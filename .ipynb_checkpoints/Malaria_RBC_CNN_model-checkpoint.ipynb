{
 "cells": [
  {
   "cell_type": "markdown",
   "id": "11b53b45",
   "metadata": {},
   "source": [
    "<br>\n",
    "<center><font size=7 color='#0020C2'>Malaria Detection in Red Blood Cells<font></center>  \n",
    "    <br>\n",
    "<center><font size=7 color='#0020C2'>Using Deep Learning Image Analysis<font></center>  \n",
    "    <br>\n",
    "<center><font size=7 color='#0020C2'>Stuart Huntley<font></center>"
   ]
  },
  {
   "cell_type": "markdown",
   "id": "4c1b0bfe",
   "metadata": {},
   "source": [
    "# Introduction"
   ]
  },
  {
   "cell_type": "markdown",
   "id": "02350c93",
   "metadata": {},
   "source": [
    "# Data Preparation"
   ]
  },
  {
   "cell_type": "markdown",
   "id": "221f2cf3",
   "metadata": {},
   "source": [
    "# Data Exploration"
   ]
  },
  {
   "cell_type": "markdown",
   "id": "7ec2585d",
   "metadata": {},
   "source": [
    "# Image Manipulation Exploration"
   ]
  },
  {
   "cell_type": "markdown",
   "id": "c191163e",
   "metadata": {},
   "source": [
    "# CNN Modeling Exploration"
   ]
  },
  {
   "cell_type": "markdown",
   "id": "cafcd63c",
   "metadata": {},
   "source": [
    "# Insights and Recommendations"
   ]
  },
  {
   "cell_type": "markdown",
   "id": "1d7f8d8f",
   "metadata": {},
   "source": []
  }
 ],
 "metadata": {
  "kernelspec": {
   "display_name": "Python 3 (ipykernel)",
   "language": "python",
   "name": "python3"
  },
  "language_info": {
   "codemirror_mode": {
    "name": "ipython",
    "version": 3
   },
   "file_extension": ".py",
   "mimetype": "text/x-python",
   "name": "python",
   "nbconvert_exporter": "python",
   "pygments_lexer": "ipython3",
   "version": "3.10.9"
  },
  "toc": {
   "base_numbering": 1,
   "nav_menu": {},
   "number_sections": true,
   "sideBar": true,
   "skip_h1_title": false,
   "title_cell": "Table of Contents",
   "title_sidebar": "Contents",
   "toc_cell": false,
   "toc_position": {
    "height": "calc(100% - 180px)",
    "left": "10px",
    "top": "150px",
    "width": "269.2px"
   },
   "toc_section_display": true,
   "toc_window_display": true
  }
 },
 "nbformat": 4,
 "nbformat_minor": 5
}
