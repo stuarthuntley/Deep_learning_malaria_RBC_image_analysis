{
 "cells": [
  {
   "cell_type": "markdown",
   "id": "11b53b45",
   "metadata": {},
   "source": [
    "<br>\n",
    "<center><font size=7 color='#0020C2'>Malaria Detection in Red Blood Cells<font></center>  \n",
    "    <br>\n",
    "<center><font size=7 color='#0020C2'>Using Deep Learning Image Analysis<font></center>  \n",
    "    <br>\n",
    "<center><font size=7 color='#0020C2'>Stuart Huntley<font></center>"
   ]
  },
  {
   "cell_type": "markdown",
   "id": "4c1b0bfe",
   "metadata": {},
   "source": [
    "# Introduction"
   ]
  },
  {
   "cell_type": "markdown",
   "id": "7ba7dc89",
   "metadata": {},
   "source": [
    "## Context"
   ]
  },
  {
   "cell_type": "markdown",
   "id": "07b4b8d4",
   "metadata": {},
   "source": [
    "* **Malaria is a serious, contagious disease caused by *Plasmodium* parasites**\n",
    "* *Plasmodium* enters the blood stream via bites from infected *Anopheles* mosquitos\n",
    "* *Plasmodium* can reside asymptomatically for more than a year in the human body\n",
    "* After infection, the parasite then invades red blood cells (RBCs) resulting in:\n",
    "> * changes in the shape, permeability, and adhesiveness of the RBCs\n",
    "> * these effects lead to destruction of infected and uninfected RBCS which can cause severe anemia and cerebral malaria\n",
    "* World-wide:\n",
    "> * almost 50% of the population is in danger of *Plasmodium* infections\n",
    "> * an estimated 200 to more than 500 million people are infected annually\n",
    "> * one half million (mostly infants and children) succumb to the illness\n",
    "* Traditional diagnosis of malaria in the laboratory:\n",
    "> * requires careful inspection of RBCs by an experienced professional\n",
    "> * detection of infected cells is a tedious and time consuming manual process\n",
    "> * accuracy of detection is adversely impacted by inspector fatigue and inter-observer variability\n",
    "* An automated system can help with rapid and accurate detection of *Plasmodium* infected RBCs\n",
    "* Applications of automated classification techniques using Machine Learning and Artificial Intelligence have consistently shown higher accuracy than manual classification\n",
    "* The purpose of this study is to apply Deep Learning Algorithms to create a model that can detect infected cells by analyzing images of RBCs with a high level of accuracy"
   ]
  },
  {
   "cell_type": "markdown",
   "id": "a730cbb5",
   "metadata": {},
   "source": [
    "## Objective"
   ]
  },
  {
   "cell_type": "markdown",
   "id": "032f1d5e",
   "metadata": {},
   "source": [
    "* Build an efficient computer vision model to detect malaria\n",
    "* The model should identify whether the RBC in an image is infected or not\n",
    "* The model should then properly classify the sample as infected or uninfected"
   ]
  },
  {
   "cell_type": "markdown",
   "id": "0feb7a15",
   "metadata": {},
   "source": [
    "## Dataset for model creation"
   ]
  },
  {
   "cell_type": "markdown",
   "id": "4a4833de",
   "metadata": {},
   "source": [
    "* The dataset consist of ~ 28,500 color images of individual RBCs\n",
    "> * all images are in portable network graphics (png) format\n",
    "> * NOTE: the dimensions of individual pictures vary significantly and will need to be corrected during data preparation\n",
    "* The dataset exists pre-divided:\n",
    "> * 'Training' (~25,000 images) and 'Test' (2600 images) datasets\n",
    "> * The 'Training and 'Test' datasets were each separated into two directories:\n",
    ">   * One directory containing only images of 'Parasitized' RBCs\n",
    ">   * A second directory containing only images of 'Uninfected' RBCs<br>\n",
    "\n",
    "**Below are example images for the 'Parasitized' and 'Uninfected' RBCs**<br>\n",
    "<img alt=\"RBC image samples\"\n",
    "     style=\"margin-left: 1%;  width: 70%\" \n",
    "     src=\"https://drive.google.com/uc?id=1LRBD_K9qrkgITRnDfWuJbXrTRNpFX9CD\"/>"
   ]
  },
  {
   "cell_type": "markdown",
   "id": "b6b88364",
   "metadata": {},
   "source": [
    "# Python Libraries"
   ]
  },
  {
   "cell_type": "code",
   "execution_count": 9,
   "id": "d680688a",
   "metadata": {},
   "outputs": [],
   "source": [
    "# To ignore warnings\n",
    "import warnings\n",
    "warnings.filterwarnings('ignore')\n",
    "\n",
    "# import normal machine learning tool libraries\n",
    "import matplotlib.pyplot as plt\n",
    "%matplotlib inline\n",
    "\n",
    "import numpy as np\n",
    "import pandas as pd\n",
    "import seaborn as sns\n",
    "import random\n",
    "from random import shuffle\n",
    "\n",
    "# to import data from images directories\n",
    "import os\n",
    "from PIL import Image, ImageFont # Python Image Library"
   ]
  },
  {
   "cell_type": "markdown",
   "id": "02350c93",
   "metadata": {},
   "source": [
    "# Data Preparation"
   ]
  },
  {
   "cell_type": "markdown",
   "id": "6eb5e505",
   "metadata": {},
   "source": [
    "## Import the Data"
   ]
  },
  {
   "cell_type": "markdown",
   "id": "e2951032",
   "metadata": {},
   "source": [
    "**Data for this project is available for download at:**<br>\n",
    "https://drive.google.com/file/d/1n3o1Xghpy9ufZwHkQFE5l5d9sUHQOUWM/view?pli=1\n",
    "\n",
    "**The downloaded, zip-compressed dataset was decompressed by bash command at the time of**<br>\n",
    "**download and stored in a folder \"DL_Malaria_data/\" adjacent to the working directory:**\n",
    "\n",
    "<pre>\n",
    "parent_directory/\n",
    "├─ project_working_directory/\n",
    "│  ├─ Malaria_RBC_CNN_model.ipynb\n",
    "├─ DL_Malaria_data/\n",
    "   ├─ cell_images/\n",
    "      ├─ test/\n",
    "      │  ├─ parasitized/\n",
    "      │  ├─ uninfected/\n",
    "      ├─ train/\n",
    "         ├─ parasitized/\n",
    "         ├─ uninfected/\n",
    "</pre>\n"
   ]
  },
  {
   "cell_type": "markdown",
   "id": "853caa44",
   "metadata": {},
   "source": [
    "### Option 1: using Google Colab"
   ]
  },
  {
   "cell_type": "markdown",
   "id": "3a933e92",
   "metadata": {},
   "source": [
    "**Note: The commands in this subsection are commented out as this was not the method used during creation of this notebook**"
   ]
  },
  {
   "cell_type": "markdown",
   "id": "4d6a56b2",
   "metadata": {},
   "source": [
    "#### Mount the google drive"
   ]
  },
  {
   "cell_type": "code",
   "execution_count": 2,
   "id": "451d8fc7",
   "metadata": {},
   "outputs": [],
   "source": [
    "#from google.colab import drive\n",
    "#drive.mount('/content/drive')"
   ]
  },
  {
   "cell_type": "markdown",
   "id": "396f2987",
   "metadata": {},
   "source": [
    "#### Assign the locations of the four image datasets to variables"
   ]
  },
  {
   "cell_type": "code",
   "execution_count": 3,
   "id": "8e62d9e9",
   "metadata": {},
   "outputs": [],
   "source": [
    "# Assign variables indicating the Google Drive locations where the four\n",
    "# data sets are located (train-parasitized, train-uninfected, test-parasitized,\n",
    "# and test_uninfected)\n",
    "#train_parasitized = '/content/cell_images/train/parasitized/'\n",
    "#train_uninfected = '/content/cell_images/train/uninfected/'\n",
    "#test_parasitized = '/content/cell_images/test/parasitized/'\n",
    "#test_uninfected = '/content/cell_images/test/uninfected/'"
   ]
  },
  {
   "cell_type": "markdown",
   "id": "3df4504d",
   "metadata": {},
   "source": [
    "### Option 2: using a local computer"
   ]
  },
  {
   "cell_type": "markdown",
   "id": "979ac7f8",
   "metadata": {},
   "source": [
    "#### Indicate the pathways to the relevant folders"
   ]
  },
  {
   "cell_type": "code",
   "execution_count": 6,
   "id": "99d9271e",
   "metadata": {},
   "outputs": [],
   "source": [
    "# Assign variables indicating the local drive locations where the four\n",
    "# data sets are located (train-parasitized, train-uninfected, test-parasitized,\n",
    "# and test_uninfected)\n",
    "train_parasitized = '../DL_Malaria_data/cell_images/train/parasitized/'\n",
    "train_uninfected = '../DL_Malaria_data/cell_images/train/uninfected/'\n",
    "test_parasitized = '../DL_Malaria_data/cell_images/test/parasitized/'\n",
    "test_uninfected = '../DL_Malaria_data/cell_images/test/uninfected/'"
   ]
  },
  {
   "cell_type": "markdown",
   "id": "468065eb",
   "metadata": {},
   "source": [
    "### Set parameters for images"
   ]
  },
  {
   "cell_type": "code",
   "execution_count": 7,
   "id": "dd4a55a4",
   "metadata": {},
   "outputs": [],
   "source": [
    "# set parameter for image dimensions per side (64 X 64 pixels) to standardize size of images\n",
    "side_length = 64"
   ]
  },
  {
   "cell_type": "markdown",
   "id": "5f9ca60e",
   "metadata": {},
   "source": [
    "### Load the image data from the four  training / testing dataset folders"
   ]
  },
  {
   "cell_type": "code",
   "execution_count": 11,
   "id": "93fa012d",
   "metadata": {},
   "outputs": [
    {
     "name": "stdout",
     "output_type": "stream",
     "text": [
      "The training/parasitized folder contains 12582 files.\n",
      "The training/uninfected folder contains 12376 files.\n",
      "The testing/parasitized folder contains 1300 files.\n",
      "The testing/uninfected folder contains 1300 files.\n"
     ]
    }
   ],
   "source": [
    "# load training-parasitized data\n",
    "# create lists for storing the imported training and testing images and labels\n",
    "training_images = []\n",
    "training_labels = []\n",
    "testing_images = []\n",
    "testing_labels = []\n",
    "\n",
    "# load the training data\n",
    "# parasitized\n",
    "dir_list = os.listdir(train_parasitized)\n",
    "print(f\"The training/parasitized folder contains {len(dir_list)} files.\")\n",
    "for image, image_label in enumerate(dir_list): # walk through the image files in the directory\n",
    "    image_file = Image.open(train_parasitized + image_label) # open the image\n",
    "    image_file = image_file.resize((side_length, side_length)) # adjust image to standardized 64 X 64 pixel dimensions\n",
    "    training_images.append(np.array(image_file)) # add the resized image to the training images array\n",
    "    training_labels.append(1) # because our data is binary (parasitized / uninfected) label can be 1 or 0 respectively\n",
    "    \n",
    "# uninfected\n",
    "dir_list = os.listdir(train_uninfected)\n",
    "print(f\"The training/uninfected folder contains {len(dir_list)} files.\")\n",
    "for image, image_label in enumerate(dir_list): # walk through the image files in the directory\n",
    "    image_file = Image.open(train_uninfected + image_label) # open the image\n",
    "    image_file = image_file.resize((side_length, side_length)) # adjust image to standardized 64 X 64 pixel dimensions\n",
    "    training_images.append(np.array(image_file)) # add the resized image to the training images array\n",
    "    training_labels.append(0) # because our data is binary (parasitized / uninfected) label can be 1 or 0 respectively\n",
    "\n",
    "# load the testing data\n",
    "# parasitized\n",
    "dir_list = os.listdir(test_parasitized)\n",
    "print(f\"The testing/parasitized folder contains {len(dir_list)} files.\")\n",
    "for image, image_label in enumerate(dir_list): # walk through the image files in the directory\n",
    "    image_file = Image.open(test_parasitized + image_label) # open the image\n",
    "    image_file = image_file.resize((side_length, side_length)) # adjust image to standardized 64 X 64 pixel dimensions\n",
    "    testing_images.append(np.array(image_file)) # add the resized image to the training images array\n",
    "    testing_labels.append(1) # because our data is binary (parasitized / uninfected) label can be 1 or 0 respectively\n",
    "    \n",
    "# uninfected\n",
    "dir_list = os.listdir(test_uninfected)\n",
    "print(f\"The testing/uninfected folder contains {len(dir_list)} files.\")\n",
    "for image, image_label in enumerate(dir_list): # walk through the image files in the directory\n",
    "    image_file = Image.open(test_uninfected + image_label) # open the image\n",
    "    image_file = image_file.resize((side_length, side_length)) # adjust image to standardized 64 X 64 pixel dimensions\n",
    "    testing_images.append(np.array(image_file)) # add the resized image to the training images array\n",
    "    testing_labels.append(0) # because our data is binary (parasitized / uninfected) label can be 1 or 0 respectively\n",
    "    \n",
    "# convert the lists into numpy array format for use in the analyses\n",
    "X_train = np.array(training_images)\n",
    "y_train = np.array(training_labels)\n",
    "X_test = np.array(testing_images)\n",
    "y_test = np.array(testing_labels)"
   ]
  },
  {
   "cell_type": "markdown",
   "id": "03b82473",
   "metadata": {},
   "source": [
    "## Investigate the attributes of the datasets"
   ]
  },
  {
   "cell_type": "markdown",
   "id": "13fafb08",
   "metadata": {},
   "source": [
    "### Check the shape, total elements, and dimensions of the four data arrays"
   ]
  },
  {
   "cell_type": "code",
   "execution_count": 12,
   "id": "8fc34edc",
   "metadata": {},
   "outputs": [
    {
     "name": "stdout",
     "output_type": "stream",
     "text": [
      "training_images array shape: (24958, 64, 64, 3), total elements: 306683904, dimensions: 4\n",
      "training_labels array shape: (24958,), total elements: 24958, dimensions: 1\n",
      "testing_images array shape: (2600, 64, 64, 3), total elements: 31948800, dimensions: 4\n",
      "testing_labels array shape: (2600,), total elements: 2600, dimensions: 1\n"
     ]
    }
   ],
   "source": [
    "# Here we use the numpy tools shape, size, and ndim to gather information regarding relevant attributes of the matrices\n",
    "print(f\"training_images array shape: {X_train.shape}, total elements: {X_train.size}, dimensions: {X_train.ndim}\")\n",
    "print(f\"training_labels array shape: {y_train.shape}, total elements: {y_train.size}, dimensions: {y_train.ndim}\")\n",
    "print(f\"testing_images array shape: {X_test.shape}, total elements: {X_test.size}, dimensions: {X_test.ndim}\")\n",
    "print(f\"testing_labels array shape: {y_test.shape}, total elements: {y_test.size}, dimensions: {y_test.ndim}\")"
   ]
  },
  {
   "cell_type": "markdown",
   "id": "3f8e4291",
   "metadata": {},
   "source": [
    "### Check the minimum, median, and maximum red, green, and blue values for the image pixels"
   ]
  },
  {
   "cell_type": "code",
   "execution_count": 17,
   "id": "b0a9f04b",
   "metadata": {},
   "outputs": [
    {
     "name": "stdout",
     "output_type": "stream",
     "text": [
      "Overall maximum red pixel values for training / testing images: 255 / 255\n",
      "Overall median red pixel values for training / testing images: 175 / 185\n",
      "Overall minimum red pixel values for training / testing images: 0 / 0\n",
      "\n",
      "Overall maximum green pixel values for training / testing images: 245 / 236\n",
      "Overall median green pixel values for training / testing images: 143 / 139\n",
      "Overall minimum green pixel values for training / testing images: 0 / 0\n",
      "\n",
      "Overall maximum blue pixel values for training / testing images: 240 / 218\n",
      "Overall median blue pixel values for training / testing images: 148 / 145\n",
      "Overall minimum blue pixel values for training / testing images: 0 / 0\n",
      "\n"
     ]
    }
   ],
   "source": [
    "# Now we use the numpy max, median, and min tools to investigate the overall RGB colors of the\n",
    "# pixels in the training picture dataset\n",
    "print(f\"Overall maximum red pixel values for training / testing images: {np.max(X_train[..., 0])} / {np.max(X_test[..., 0])}\")\n",
    "print(f\"Overall median red pixel values for training / testing images: {round(np.median(X_train[..., 0]))} / {round(np.median(X_test[..., 0]))}\")\n",
    "print(f\"Overall minimum red pixel values for training / testing images: {np.min(X_train[..., 0])} / {np.min(X_test[..., 0])}\\n\")\n",
    "print(f\"Overall maximum green pixel values for training / testing images: {np.max(X_train[..., 1])} / {np.max(X_test[..., 1])}\")\n",
    "print(f\"Overall median green pixel values for training / testing images: {round(np.median(X_train[..., 1]))} / {round(np.median(X_test[..., 1]))}\")\n",
    "print(f\"Overall minimum green pixel values for training / testing images: {np.min(X_train[..., 1])} / {np.min(X_test[..., 1])}\\n\")\n",
    "print(f\"Overall maximum blue pixel values for training / testing images: {np.max(X_train[..., 2])} / {np.max(X_test[..., 2])}\")\n",
    "print(f\"Overall median blue pixel values for training / testing images: {round(np.median(X_train[..., 2]))} / {round(np.median(X_test[..., 2]))}\")\n",
    "print(f\"Overall minimum blue pixel values for training / testing images: {np.min(X_train[..., 2])} / {np.min(X_test[..., 2])}\\n\")"
   ]
  },
  {
   "cell_type": "markdown",
   "id": "0d43b3ff",
   "metadata": {},
   "source": [
    "### Observations of imported data"
   ]
  },
  {
   "cell_type": "markdown",
   "id": "915f182f",
   "metadata": {},
   "source": [
    "* we have loaded 24,958 images (and labels) for the training sets we will use in our model building\n",
    "* we have loaded 2600 images (and labels) for the testing sets we will use to test our models\n",
    "* all images are 64 X 64 pixels and 3 color layers (RGB)\n",
    "* the X_train array contains over 300 million elements, the X_test contains about 1/10th that value\n",
    "* based on the median values for the red, green, and blue pixels, the training image contains, on average, the highest tint of red (median value 175) compared to green and blue (median values 143 and 148, respectively)\n",
    "* the testing data had overall median values for red, green, and blue of: 185, 139, and 145... slightly more red and less green and blue\n",
    "* combined, these RGB values for the images produce an overall average for the images of<br>\n",
    "<font color= #AF8F94><strong>this color for training images</strong></font> and<br>\n",
    "<font color= #B98B91><strong>this color for testing images</strong></font><br>\n",
    "* overall the training and testing images are very similar, and should work well for the modelling work"
   ]
  },
  {
   "cell_type": "markdown",
   "id": "458949a0",
   "metadata": {},
   "source": [
    "### Normalize the images and balance check"
   ]
  },
  {
   "cell_type": "code",
   "execution_count": 31,
   "id": "83ce54f1",
   "metadata": {},
   "outputs": [
    {
     "name": "stdout",
     "output_type": "stream",
     "text": [
      "X_train_N.shape: (24958, 64, 64, 3)\n",
      "Overall median red pixel values for normalized training images: 0.686274528503418\n",
      "Overall median green pixel values for normalized training images: 0.5607843399047852\n",
      "Overall median blue pixel values for normalized training images: 0.5803921818733215\n"
     ]
    },
    {
     "data": {
      "image/png": "[encoded data removed]",
      "text/plain": [
       "<Figure size 640x480 with 1 Axes>"
      ]
     },
     "metadata": {},
     "output_type": "display_data"
    }
   ],
   "source": [
    "# to ensure the values of the images in the arrays can be readily used by the modeling tools,\n",
    "# we will use the .astype tool to convert values from 0-255 to 0-1 as a float32 value\n",
    "# I am preserving the current X_train and X_test values (for now) and creating new values\n",
    "# for the normalized data indicated with the '_N' suffix \n",
    "X_train_N = X_train.astype('float32')/255\n",
    "X_test_N = X_test.astype('float32')/255\n",
    "\n",
    "# create backup of initial data as prepared for model testing\n",
    "X_train_N_original = X_train_N\n",
    "X_test_N_original = X_test_N\n",
    "\n",
    "# check X_train_N shape\n",
    "print(f\"X_train_N.shape: {X_train_N.shape}\")\n",
    "print(f\"Overall median red pixel values for normalized training images: {np.median(X_train_N[..., 0])}\")\n",
    "print(f\"Overall median green pixel values for normalized training images: {np.median(X_train_N[..., 1])}\")\n",
    "print(f\"Overall median blue pixel values for normalized training images: {np.median(X_train_N[..., 2])}\")\n",
    "\n",
    "# check balance between 'parasitized' and 'uninfected' image counts\n",
    "y_string = y_train.tolist()\n",
    "df = pd.DataFrame(y_string, columns=['Cells'])\n",
    "df['Cells'] = df['Cells'].map({0: 'uninfected', 1: 'parasitized'})\n",
    "\n",
    "ax = sns.countplot(x= df['Cells'], order=df['Cells'].value_counts(ascending=True).index);\n",
    "abs_values = df['Cells'].value_counts(ascending=True).values\n",
    "ax.bar_label(container=ax.containers[0], labels = abs_values)\n",
    "plt.show()"
   ]
  },
  {
   "cell_type": "code",
   "execution_count": null,
   "id": "a6ab05a0",
   "metadata": {},
   "outputs": [],
   "source": []
  },
  {
   "cell_type": "code",
   "execution_count": null,
   "id": "bd096c66",
   "metadata": {},
   "outputs": [],
   "source": []
  },
  {
   "cell_type": "code",
   "execution_count": null,
   "id": "ddbf1692",
   "metadata": {},
   "outputs": [],
   "source": []
  },
  {
   "cell_type": "code",
   "execution_count": null,
   "id": "336fe4d7",
   "metadata": {},
   "outputs": [],
   "source": []
  },
  {
   "cell_type": "code",
   "execution_count": null,
   "id": "32ca2643",
   "metadata": {},
   "outputs": [],
   "source": []
  },
  {
   "cell_type": "markdown",
   "id": "221f2cf3",
   "metadata": {},
   "source": [
    "# Data Exploration"
   ]
  },
  {
   "cell_type": "markdown",
   "id": "7ec2585d",
   "metadata": {},
   "source": [
    "# Image Manipulation Exploration"
   ]
  },
  {
   "cell_type": "markdown",
   "id": "c191163e",
   "metadata": {},
   "source": [
    "# CNN Modeling Exploration"
   ]
  },
  {
   "cell_type": "markdown",
   "id": "cafcd63c",
   "metadata": {},
   "source": [
    "# Insights and Recommendations"
   ]
  },
  {
   "cell_type": "markdown",
   "id": "1d7f8d8f",
   "metadata": {},
   "source": []
  }
 ],
 "metadata": {
  "kernelspec": {
   "display_name": "Python 3 (ipykernel)",
   "language": "python",
   "name": "python3"
  },
  "language_info": {
   "codemirror_mode": {
    "name": "ipython",
    "version": 3
   },
   "file_extension": ".py",
   "mimetype": "text/x-python",
   "name": "python",
   "nbconvert_exporter": "python",
   "pygments_lexer": "ipython3",
   "version": "3.10.9"
  },
  "toc": {
   "base_numbering": 1,
   "nav_menu": {},
   "number_sections": true,
   "sideBar": true,
   "skip_h1_title": false,
   "title_cell": "Table of Contents",
   "title_sidebar": "Contents",
   "toc_cell": false,
   "toc_position": {
    "height": "calc(100% - 180px)",
    "left": "10px",
    "top": "150px",
    "width": "317.367px"
   },
   "toc_section_display": true,
   "toc_window_display": true
  },
  "varInspector": {
   "cols": {
    "lenName": 16,
    "lenType": 16,
    "lenVar": 40
   },
   "kernels_config": {
    "python": {
     "delete_cmd_postfix": "",
     "delete_cmd_prefix": "del ",
     "library": "var_list.py",
     "varRefreshCmd": "print(var_dic_list())"
    },
    "r": {
     "delete_cmd_postfix": ") ",
     "delete_cmd_prefix": "rm(",
     "library": "var_list.r",
     "varRefreshCmd": "cat(var_dic_list()) "
    }
   },
   "types_to_exclude": [
    "module",
    "function",
    "builtin_function_or_method",
    "instance",
    "_Feature"
   ],
   "window_display": false
  }
 },
 "nbformat": 4,
 "nbformat_minor": 5
}
